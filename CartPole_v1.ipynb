{
  "nbformat": 4,
  "nbformat_minor": 0,
  "metadata": {
    "colab": {
      "provenance": [],
      "toc_visible": true,
      "authorship_tag": "ABX9TyNj9z+R6gHYbStlSnwWGtx8",
      "include_colab_link": true
    },
    "kernelspec": {
      "name": "python3",
      "display_name": "Python 3"
    },
    "language_info": {
      "name": "python"
    }
  },
  "cells": [
    {
      "cell_type": "markdown",
      "metadata": {
        "id": "view-in-github",
        "colab_type": "text"
      },
      "source": [
        "<a href=\"https://colab.research.google.com/github/Guivaluarte/CartPole/blob/main/CartPole_v1.ipynb\" target=\"_parent\"><img src=\"https://colab.research.google.com/assets/colab-badge.svg\" alt=\"Open In Colab\"/></a>"
      ]
    },
    {
      "cell_type": "code",
      "execution_count": 1,
      "metadata": {
        "colab": {
          "base_uri": "https://localhost:8080/"
        },
        "id": "TqDjGjulh9uP",
        "outputId": "0d212921-73cf-48f9-b2da-b347d9f88ff1"
      },
      "outputs": [
        {
          "output_type": "stream",
          "name": "stdout",
          "text": [
            "Collecting gymnasium[classic_control]\n",
            "  Downloading gymnasium-0.29.1-py3-none-any.whl.metadata (10 kB)\n",
            "Requirement already satisfied: numpy>=1.21.0 in /usr/local/lib/python3.10/dist-packages (from gymnasium[classic_control]) (1.26.4)\n",
            "Requirement already satisfied: cloudpickle>=1.2.0 in /usr/local/lib/python3.10/dist-packages (from gymnasium[classic_control]) (2.2.1)\n",
            "Requirement already satisfied: typing-extensions>=4.3.0 in /usr/local/lib/python3.10/dist-packages (from gymnasium[classic_control]) (4.12.2)\n",
            "Collecting farama-notifications>=0.0.1 (from gymnasium[classic_control])\n",
            "  Downloading Farama_Notifications-0.0.4-py3-none-any.whl.metadata (558 bytes)\n",
            "Requirement already satisfied: pygame>=2.1.3 in /usr/local/lib/python3.10/dist-packages (from gymnasium[classic_control]) (2.6.0)\n",
            "Downloading Farama_Notifications-0.0.4-py3-none-any.whl (2.5 kB)\n",
            "Downloading gymnasium-0.29.1-py3-none-any.whl (953 kB)\n",
            "\u001b[2K   \u001b[90m━━━━━━━━━━━━━━━━━━━━━━━━━━━━━━━━━━━━━━━━\u001b[0m \u001b[32m953.9/953.9 kB\u001b[0m \u001b[31m20.5 MB/s\u001b[0m eta \u001b[36m0:00:00\u001b[0m\n",
            "\u001b[?25hInstalling collected packages: farama-notifications, gymnasium\n",
            "Successfully installed farama-notifications-0.0.4 gymnasium-0.29.1\n"
          ]
        }
      ],
      "source": [
        "!pip install gymnasium[classic_control]"
      ]
    },
    {
      "cell_type": "code",
      "source": [
        "import gymnasium as gym\n",
        "import math\n",
        "import random\n",
        "import matplotlib\n",
        "import matplotlib.pyplot as plt\n",
        "from collections import namedtuple, deque\n",
        "from itertools import count\n",
        "\n",
        "import torch\n",
        "import torch.nn as nn\n",
        "import torch.optim as optim\n",
        "import torch.nn.functional as F"
      ],
      "metadata": {
        "id": "Sa2LDfDyifnC"
      },
      "execution_count": 2,
      "outputs": []
    },
    {
      "cell_type": "code",
      "source": [
        "device = torch.device(\n",
        "    \"cuda\" if torch.cuda.is_available() else\n",
        "    \"mps\" if torch.backends.mps.is_available() else\n",
        "    \"cpu\"\n",
        ")\n",
        "\n",
        "device"
      ],
      "metadata": {
        "colab": {
          "base_uri": "https://localhost:8080/"
        },
        "id": "BzJh79Nrj2wZ",
        "outputId": "3c65107f-39ed-4ed2-b106-d570d3875ce9"
      },
      "execution_count": 3,
      "outputs": [
        {
          "output_type": "execute_result",
          "data": {
            "text/plain": [
              "device(type='cpu')"
            ]
          },
          "metadata": {},
          "execution_count": 3
        }
      ]
    },
    {
      "cell_type": "code",
      "source": [
        "env = gym.make(\"CartPole-v1\", render_mode= 'rgb_array')\n",
        "\n",
        "is_ipython = 'inline' in matplotlib.get_backend()\n",
        "if is_ipython:\n",
        "    from IPython import display\n",
        "\n",
        "plt.ion()"
      ],
      "metadata": {
        "colab": {
          "base_uri": "https://localhost:8080/"
        },
        "id": "eqRYViGDjrvC",
        "outputId": "6cd4f4c0-d907-4c07-f800-95a4f010602c"
      },
      "execution_count": 52,
      "outputs": [
        {
          "output_type": "execute_result",
          "data": {
            "text/plain": [
              "<contextlib.ExitStack at 0x79f7f21eed40>"
            ]
          },
          "metadata": {},
          "execution_count": 52
        }
      ]
    },
    {
      "cell_type": "markdown",
      "source": [
        "# Create Replay Memory"
      ],
      "metadata": {
        "id": "kFBdxQLS100K"
      }
    },
    {
      "cell_type": "code",
      "source": [
        "Transition = namedtuple('Transition', ('state', 'action', 'next_state', 'reward'))\n",
        "\n",
        "class ReplayMemory:\n",
        "  def __init__(self, capacity) -> None:\n",
        "     self.memory = deque([], maxlen= capacity)\n",
        "\n",
        "  def push(self, *args) -> None:\n",
        "    self.memory.append(Transition(*args))\n",
        "\n",
        "  def sample(self, batch_size):\n",
        "    return random.sample(self.memory, batch_size)\n",
        "\n",
        "  def __len__(self):\n",
        "    return len(self.memory)\n"
      ],
      "metadata": {
        "id": "KnWl72nQkJei"
      },
      "execution_count": 53,
      "outputs": []
    },
    {
      "cell_type": "markdown",
      "source": [
        "# Create DQN Model"
      ],
      "metadata": {
        "id": "SlgoARHM5mHH"
      }
    },
    {
      "cell_type": "code",
      "source": [
        "class DQN(nn.Module):\n",
        "  def __init__(self, n_observations, n_actions) -> None:\n",
        "    super(DQN, self).__init__()\n",
        "\n",
        "    self.layer1 = nn.Linear(n_observations, 128)\n",
        "    self.layer2 = nn.Linear(128,128)\n",
        "    self.layer3 = nn.Linear(128, n_actions)\n",
        "\n",
        "  def forward(self, x):\n",
        "    x = F.relu(self.layer1(x))\n",
        "    x = F.relu(self.layer2(x))\n",
        "    return self.layer3(x)\n",
        "\n"
      ],
      "metadata": {
        "id": "M4Zsn3Y05bCI"
      },
      "execution_count": 54,
      "outputs": []
    },
    {
      "cell_type": "markdown",
      "source": [
        "## helper plot function\n"
      ],
      "metadata": {
        "id": "WD8T7kkXO7cJ"
      }
    },
    {
      "cell_type": "code",
      "source": [
        "episode_durations = []\n",
        "\n",
        "\n",
        "def plot_durations(show_result=False):\n",
        "    plt.figure(1)\n",
        "    durations_t = torch.tensor(episode_durations, dtype=torch.float)\n",
        "    if show_result:\n",
        "        plt.title('Result')\n",
        "    else:\n",
        "        plt.clf()\n",
        "        plt.title('Training...')\n",
        "    plt.xlabel('Episode')\n",
        "    plt.ylabel('Duration')\n",
        "    plt.plot(durations_t.numpy())\n",
        "    # Take 100 episode averages and plot them too\n",
        "    if len(durations_t) >= 100:\n",
        "        means = durations_t.unfold(0, 100, 1).mean(1).view(-1)\n",
        "        means = torch.cat((torch.zeros(99), means))\n",
        "        plt.plot(means.numpy())\n",
        "\n",
        "    plt.pause(0.001)  # pause a bit so that plots are updated\n",
        "    if is_ipython:\n",
        "        if not show_result:\n",
        "            display.display(plt.gcf())\n",
        "            display.clear_output(wait=True)\n",
        "        else:\n",
        "            display.display(plt.gcf())"
      ],
      "metadata": {
        "id": "yvzp7_QwO_i_"
      },
      "execution_count": 55,
      "outputs": []
    },
    {
      "cell_type": "markdown",
      "source": [
        "# Train Model"
      ],
      "metadata": {
        "id": "zBiwZcHJCoti"
      }
    },
    {
      "cell_type": "markdown",
      "source": [
        "## Hyperparameters"
      ],
      "metadata": {
        "id": "xgvHdUQQGuoU"
      }
    },
    {
      "cell_type": "code",
      "source": [
        "BATCH_SIZE = 128\n",
        "GAMMA = 0.99       # discount factor\n",
        "EPS_START = 0.9    # starting value of epsilon\n",
        "EPS_END = 0.05     # final value of epsilon\n",
        "EPS_DECAY = 1000   # controls the rate of exponential decay of epsilon, higher means a slower decay\n",
        "TAU = 0.005        # update rate of the target network\n",
        "LR = 1e-4          #  learning rate of the ``AdamW`` optimizer\n",
        "\n",
        "\n",
        "n_actions = env.action_space.n\n",
        "state, info = env.reset()\n",
        "n_observations = len(state)\n",
        "\n",
        "policy_net = DQN(n_observations, n_actions).to(device)\n",
        "target_net = DQN(n_observations, n_actions).to(device)\n",
        "target_net.load_state_dict(policy_net.state_dict())\n",
        "\n",
        "optimizer = optim.AdamW(policy_net.parameters(), lr=LR, amsgrad=True)\n",
        "memory = ReplayMemory(10000)\n",
        "\n",
        "steps_done = 0\n",
        "\n",
        "def select_action(state):\n",
        "    global steps_done\n",
        "\n",
        "    sample = random.random()\n",
        "    eps_threshold = EPS_END + (EPS_START - EPS_END) * math.exp(-1. * steps_done / EPS_DECAY)\n",
        "    steps_done += 1\n",
        "\n",
        "    if sample > eps_threshold:\n",
        "      with torch.no_grad():\n",
        "        return policy_net(state).max(1).indices.view(1, 1)\n",
        "    else:\n",
        "        return torch.tensor([[env.action_space.sample()]], device=device, dtype=torch.long)\n"
      ],
      "metadata": {
        "id": "ZnDW7HEGNV_q"
      },
      "execution_count": 56,
      "outputs": []
    },
    {
      "cell_type": "markdown",
      "source": [
        "# Training Loop"
      ],
      "metadata": {
        "id": "VpvjuD3KGyev"
      }
    },
    {
      "cell_type": "code",
      "source": [
        "def optimize_model():\n",
        "  if len(memory) < BATCH_SIZE:\n",
        "        return\n",
        "\n",
        "  transitions = memory.sample(BATCH_SIZE)\n",
        "  batch = Transition(*zip(*transitions))\n",
        "\n",
        "  non_final_mask = torch.tensor(tuple(map(lambda s: s is not None,\n",
        "                                          batch.next_state)), device=device, dtype=torch.bool)\n",
        "\n",
        "  non_final_next_states = torch.cat([s for s in batch.next_state\n",
        "                                                if s is not None])\n",
        "\n",
        "  state_batch = torch.cat(batch.state)\n",
        "  action_batch = torch.cat(batch.action)\n",
        "  reward_batch = torch.cat(batch.reward)\n",
        "\n",
        "  state_action_values = policy_net(state_batch).gather(1, action_batch)\n",
        "  next_state_values = torch.zeros(BATCH_SIZE, device=device)\n",
        "\n",
        "  with torch.no_grad():\n",
        "      next_state_values[non_final_mask] = target_net(non_final_next_states).max(1).values\n",
        "\n",
        "  expected_state_action_values = (next_state_values * GAMMA) + reward_batch    # Compute the expected Q values\n",
        "\n",
        "  criterion = nn.SmoothL1Loss()\n",
        "  loss = criterion(state_action_values, expected_state_action_values.unsqueeze(1))\n",
        "\n",
        "  optimizer.zero_grad()\n",
        "  loss.backward()\n",
        "\n",
        "  torch.nn.utils.clip_grad_value_(policy_net.parameters(), 100)\n",
        "  optimizer.step()"
      ],
      "metadata": {
        "id": "PgwYFgV-Gqsi"
      },
      "execution_count": 57,
      "outputs": []
    },
    {
      "cell_type": "code",
      "source": [
        "if torch.cuda.is_available() or torch.backends.mps.is_available():\n",
        "    num_episodes = 600\n",
        "else:\n",
        "    num_episodes = 50\n",
        "\n",
        "for i_episode in range(num_episodes):\n",
        "    state, info = env.reset()\n",
        "    state = torch.tensor(state, dtype=torch.float32, device=device).unsqueeze(0)\n",
        "\n",
        "    for t in count():\n",
        "        action = select_action(state)\n",
        "        observation, reward, terminated, truncated, _ = env.step(action.item())\n",
        "        reward = torch.tensor([reward], device=device)\n",
        "        done = terminated or truncated\n",
        "\n",
        "        if terminated:\n",
        "            next_state = None\n",
        "        else:\n",
        "          next_state = torch.tensor(observation, dtype=torch.float32, device=device).unsqueeze(0)\n",
        "\n",
        "        memory.push(state, action, next_state, reward)\n",
        "\n",
        "        state = next_state\n",
        "\n",
        "        optimize_model()\n",
        "\n",
        "        target_net_state_dict = target_net.state_dict()\n",
        "        policy_net_state_dict = policy_net.state_dict()\n",
        "        for key in policy_net_state_dict:\n",
        "            target_net_state_dict[key] = policy_net_state_dict[key]*TAU + target_net_state_dict[key]*(1-TAU)\n",
        "        target_net.load_state_dict(target_net_state_dict)\n",
        "\n",
        "        if done:\n",
        "            episode_durations.append(t + 1)\n",
        "            plot_durations()\n",
        "            break"
      ],
      "metadata": {
        "colab": {
          "base_uri": "https://localhost:8080/",
          "height": 35
        },
        "id": "1bMTVn4dNDzF",
        "outputId": "7d55c98e-76b9-4669-a3ce-d7da85a6f6b2"
      },
      "execution_count": 58,
      "outputs": [
        {
          "output_type": "display_data",
          "data": {
            "text/plain": [
              "<Figure size 640x480 with 0 Axes>"
            ]
          },
          "metadata": {}
        }
      ]
    },
    {
      "cell_type": "markdown",
      "source": [
        "# Plot Results"
      ],
      "metadata": {
        "id": "W_UZCBTBdKZA"
      }
    },
    {
      "cell_type": "code",
      "source": [
        "print('Complete')\n",
        "plot_durations(show_result=True)\n",
        "plt.ioff()\n",
        "plt.show()\n",
        "\n",
        "env.render()"
      ],
      "metadata": {
        "colab": {
          "base_uri": "https://localhost:8080/",
          "height": 949
        },
        "id": "JuYN_giNPBdf",
        "outputId": "bddbf47a-0ef1-4ad1-f7f7-f6f2c638fe05"
      },
      "execution_count": 59,
      "outputs": [
        {
          "output_type": "stream",
          "name": "stdout",
          "text": [
            "Complete\n"
          ]
        },
        {
          "output_type": "display_data",
          "data": {
            "text/plain": [
              "<Figure size 640x480 with 1 Axes>"
            ],
            "image/png": "[encoded data removed]"
          },
          "metadata": {}
        },
        {
          "output_type": "display_data",
          "data": {
            "text/plain": [
              "<Figure size 640x480 with 0 Axes>"
            ]
          },
          "metadata": {}
        },
        {
          "output_type": "display_data",
          "data": {
            "text/plain": [
              "<Figure size 640x480 with 0 Axes>"
            ]
          },
          "metadata": {}
        },
        {
          "output_type": "execute_result",
          "data": {
            "text/plain": [
              "array([[[255, 255, 255],\n",
              "        [255, 255, 255],\n",
              "        [255, 255, 255],\n",
              "        ...,\n",
              "        [255, 255, 255],\n",
              "        [255, 255, 255],\n",
              "        [255, 255, 255]],\n",
              "\n",
              "       [[255, 255, 255],\n",
              "        [255, 255, 255],\n",
              "        [255, 255, 255],\n",
              "        ...,\n",
              "        [255, 255, 255],\n",
              "        [255, 255, 255],\n",
              "        [255, 255, 255]],\n",
              "\n",
              "       [[255, 255, 255],\n",
              "        [255, 255, 255],\n",
              "        [255, 255, 255],\n",
              "        ...,\n",
              "        [255, 255, 255],\n",
              "        [255, 255, 255],\n",
              "        [255, 255, 255]],\n",
              "\n",
              "       ...,\n",
              "\n",
              "       [[255, 255, 255],\n",
              "        [255, 255, 255],\n",
              "        [255, 255, 255],\n",
              "        ...,\n",
              "        [255, 255, 255],\n",
              "        [255, 255, 255],\n",
              "        [255, 255, 255]],\n",
              "\n",
              "       [[255, 255, 255],\n",
              "        [255, 255, 255],\n",
              "        [255, 255, 255],\n",
              "        ...,\n",
              "        [255, 255, 255],\n",
              "        [255, 255, 255],\n",
              "        [255, 255, 255]],\n",
              "\n",
              "       [[255, 255, 255],\n",
              "        [255, 255, 255],\n",
              "        [255, 255, 255],\n",
              "        ...,\n",
              "        [255, 255, 255],\n",
              "        [255, 255, 255],\n",
              "        [255, 255, 255]]], dtype=uint8)"
            ],
            "text/html": [
              "<style>\n",
              "      .ndarray_repr .ndarray_raw_data {\n",
              "        display: none;\n",
              "      }\n",
              "      .ndarray_repr.show_array .ndarray_raw_data {\n",
              "        display: block;\n",
              "      }\n",
              "      .ndarray_repr.show_array .ndarray_image_preview {\n",
              "        display: none;\n",
              "      }\n",
              "      </style>\n",
              "      <div id=\"id-26ea4b17-8232-4e8b-a8cd-e49ec84acd41\" class=\"ndarray_repr\"><pre>ndarray (400, 600, 3) <button style=\"padding: 0 2px;\">show data</button></pre><img src=\"data:image/png;base64,iVBORw0KGgoAAAANSUhEUgAAAlgAAAGQCAIAAAD9V4nPAAALWUlEQVR4nO3dWYyddR3G8dN9mwFlqa2AZSk1IV5oIkEjiLsWjTFoTFwSjMa6RYxeG6/00hgXolY0BowG1KgxWpeAiggqMUo1CrSUTgt0l4GZaTttmfGiSYOF9j2Uvv//e87z+Vw17S/Nw0X5pj3nPWfO7OxsDwBSza09AABqEkIAogkhANGEEIBoQghANCEEIJoQAhBNCAGIJoQARBNCAKIJIQDRhBCAaEIIQDQhBCCaEAIQTQgBiCaEAEQTQgCiCSEA0YQQgGhCCEA0IQQgmhACEE0IAYgmhABEE0IAogkhANGEEIBoQghANCEEIJoQAhBNCAGIJoQARBNCAKIJIQDRhBCAaEIIQDQhBCCaEAIQTQgBiCaEAEQTQgCiCSEA0YQQgGhCCEA0IQQgmhACEE0IAYgmhABEE0IAogkhANGEEIBoQghANCEEIJoQAhBNCAGIJoQARBNCAKIJIQDRhBCAaEIIQDQhBCCaEAIQTQgBiCaEAEQTQgCiCSEA0YQQgGhCCEA0IQQgmhACEE0IAYgmhABEE0IAogkhANGEEIBoQghANCEEIJoQAhBNCAGIJoQARBNCAKIJIQDRhBCAaEIIQDQhBCCaEAIQTQgBiCaEAEQTQgCiCSEA0YQQgGhCCEA0IQQgmhACEE0IAYgmhABEE0IAogkhANGEEIBoQghANCEEIJoQAhBNCAGIJoQARBNCAKIJIQDRhBCAaEIIQDQhBCCaEAIQTQgBiCaEAEQTQgCiCSEA0YQQgGhCCEA0IQQgmhACEE0IAYgmhABEE0IAogkhANGEEIBoQghANCEEIJoQAhBNCAGIJoQARBNCAKIJIQDRhBCAaEIIQDQhBCCaEAIQTQgBiCaEAEQTQgCiCSEA0YQQgGhCCEA0IQQgmhACEE0IAYgmhABEE0IAogkhANGEEIBoQghANCEEIJoQAhBNCAGIJoQARBNCAKIJIQDRhBCAaEIIQDQhBCCaEAIQTQgBiCaEAEQTQgCiCSEA0YQQgGhCCEA0IQQgmhACEE0IAYgmhABEE0IAogkhANGEEIBoQghAtPm1B0CQw/sfHx/bOD527/jYxss/sr72HKDXE0IoYGrP2Pi2f46P3bt/z9ixn5zYuXl0xeqKq4CjhBDaMj62cXxs457/3PGMvzq5Y5MQQhfMmZ2drb0BhtA931zXeONfR6ELvFkGgGhCCNXs37e99gRACKEda675VOPNxI7NBZYAJyeE0IrRlZc23mz70w8KLAFOTgihFXPnL6w9AeiLEEJNB5/YU3sCpBNCaMvqN32s8WZyx6YCS4CTEEJoSz8vEz70+++2PwQ4GSGEtsxfPFJ7AtBMCKGywweeqD0BogkhtOji132o8cbThFCXEEKLRvr4WO0Hf/uNAkuAExFCaNGi0bNrTwAaCCHUN3PkUO0JkEsIoV2rrnp/482EpwmhHiGEdvXzNOEDv/xygSXAMxJCaNeS56+sPQE4GSEEIJoQQusueOW7G28mdz1YYAnwdEIIrevnZUKP1UMtQgitW3buqsabh//y4wJLgKcTQgCiCSGUcN7l72i82b/v4faHAMcTQihhdGXzh45O7vQyIVQghFDC6Mo1jTdjd36/wBLgOEIIQDQhhA6ZnthbewLEEUIoZM011zfeeJoQyhNCKGRkRfNj9Q/97jsFlgBPJYRQyLwFi2pPAJ6BEEK3HD4wUXsCZBFCKOeSN3608cbThFCYEEI5/Xz69ubffL3AEuAYIYRyFiwZrT0BOJ4QQufMPHm49gQIIoRQ1EWv/WDjjacJoSQhhKL6+fTtB37xpQJLgKOEEIpaNHpO7QnA/xFCAKIJIZS26qr3Nd5M7tpSYAnQE0Iob7SPDx2d8Fg9lCKEUNqSs17YePPwn39UYAnQE0IAwgkhVHDBK97VeHPgv48WWAIIIVQwunJN442XCaEMIYQKli2/sPFm7I/fa38IIIQAZBNCqOO8l7+98WZ6Yl+BJRBOCKGOkT6+m9CX9EIBQgh19PMlvVtu/3aBJRBOCKGOOXP86YNO8EcROu3I9FTtCTDkhBCquXTtJxtvfEkvtE0IoZp+Pn17869vKLAEkgkhVDNv4eLaEwAhhM6befJI7QkwzIQQarrkDesabzxNCK0SQqipn6cJJ3ZsKrAEYgkh1LRg6ZmNN4/+7ecFlkAsIQQgmhBCZRe95gONN1O7t7a+A1IJIVTWz6dvT+z0MiG0RQihssVnnNt4s/3uHxZYApmEEIBoQgj1rbryvY03Bx7bUWAJBBJCqG9kxerGG4/VQ0uEEOpbevb5jTdb77i5wBIIJIQARBNC6ITzr3hn482hyccKLIE0Qgid0NeHjnqaEFoghNAJIy+4uPFmy203FlgCaYQQgGhCCIPkyPT+2hNg2AghdMWL3/aZxhtPE8JpJ4TQFf08Vr/pV18rsASiCCF0xdx582tPgERCCANmdmam9gQYKkIIHXLpWz7ReONpQji9hBA6ZGRF82P13i8Dp5cQQofMX7S08eaRe35WYAnkEEIAogkhdMvFr/9w483UnrECSyCEEEK39PXp2zu8XwZOGyGEblm47HmNN9vvvrX9IZBCCAGIJoTQORdefV3jzcHxXQWWQAIhhM7xJb1QkhBC5yw+c3njzdY/3FRgCSQQQgCiCSF00Yte9Z7Gm0NT4+0PgeEnhNBFoyubv5vQ04RwWgghdNHSsy9ovNly27cKLIGhJ4QARBNC6Kjzr7i28ebJQwcLLIHhJoTQUf18N6GnCeG5E0LoqNEVlzTebNrw1QJLYLgJIQDRhBAG2+zsbO0JMNiEELprzVs/3XgzuXNzgSUwxIQQustj9VCAEEJ3zZ23oPHmkXt+2v4QGGZCCEA0IYROW/3mjzfeTO3dVmAJDCshhE7r50t6J71MCM+BEEKnzV+0rPFm2123FFgCw0oIAYgmhFDUnGfvszfe3vjbXrD8zFP4nZ+qwH87dJMQQtf9Y/POxpuXrl5RYAkMJSGErts9PtV487nrri6wBIbS/NoDgGftX5NX7j60anpm2aK5U8sXjr1k5M7ai2CA+RshDIDP33zHsR9v2Ltu+8HLpmeW9Xq96Zll2w9etmHvul6vd9YZS6rtg0EmhDAAjr1MeLR5T7dh77qXeZkQTokQwgDYtuvx3okreNSrr7211BwYKkIIQDQhhMHwxVvuarxZvNDb3+BZE0IYDH/3NCG0QwhhMDywfV/jzVeuX1tgCQwZIYSBsfac9af8q8CJCCEMjBt+8tcT1U4F4ZR5aR0GxtGnCdees/6pnyyzYPr+3Ztu+sLY3vu27b2/j38+BY4jhDAw7n1wV6/X+/fWPfdvW3+f8gEA8NzNmZ2drb0BgnT2m//8r4BY3iwDQDQhBCCaEAIQTQgBiCaEAEQTQgCiCSEA0YQQgGhCCEA0IQQgmhACEE0IAYgmhABEE0IAovkaJgCi+RshANGEEIBoQghANCEEIJoQAhBNCAGIJoQARBNCAKIJIQDRhBCAaEIIQDQhBCCaEAIQTQgBiCaEAEQTQgCiCSEA0YQQgGhCCEA0IQQgmhACEE0IAYgmhABEE0IAogkhANGEEIBoQghANCEEIJoQAhBNCAGIJoQARBNCAKIJIQDRhBCAaEIIQDQhBCCaEAIQTQgBiCaEAEQTQgCiCSEA0YQQgGhCCEA0IQQgmhACEE0IAYgmhABEE0IAogkhANGEEIBoQghANCEEIJoQAhBNCAGIJoQARBNCAKIJIQDRhBCAaEIIQDQhBCCaEAIQTQgBiCaEAEQTQgCiCSEA0YQQgGhCCEA0IQQgmhACEE0IAYgmhABEE0IAogkhANGEEIBoQghANCEEIJoQAhBNCAGIJoQARBNCAKIJIQDRhBCAaEIIQDQhBCDa/wDdAIZSuYPOtwAAAABJRU5ErkJggg==\" class=\"ndarray_image_preview\" /><pre class=\"ndarray_raw_data\">array([[[255, 255, 255],\n",
              "        [255, 255, 255],\n",
              "        [255, 255, 255],\n",
              "        ...,\n",
              "        [255, 255, 255],\n",
              "        [255, 255, 255],\n",
              "        [255, 255, 255]],\n",
              "\n",
              "       [[255, 255, 255],\n",
              "        [255, 255, 255],\n",
              "        [255, 255, 255],\n",
              "        ...,\n",
              "        [255, 255, 255],\n",
              "        [255, 255, 255],\n",
              "        [255, 255, 255]],\n",
              "\n",
              "       [[255, 255, 255],\n",
              "        [255, 255, 255],\n",
              "        [255, 255, 255],\n",
              "        ...,\n",
              "        [255, 255, 255],\n",
              "        [255, 255, 255],\n",
              "        [255, 255, 255]],\n",
              "\n",
              "       ...,\n",
              "\n",
              "       [[255, 255, 255],\n",
              "        [255, 255, 255],\n",
              "        [255, 255, 255],\n",
              "        ...,\n",
              "        [255, 255, 255],\n",
              "        [255, 255, 255],\n",
              "        [255, 255, 255]],\n",
              "\n",
              "       [[255, 255, 255],\n",
              "        [255, 255, 255],\n",
              "        [255, 255, 255],\n",
              "        ...,\n",
              "        [255, 255, 255],\n",
              "        [255, 255, 255],\n",
              "        [255, 255, 255]],\n",
              "\n",
              "       [[255, 255, 255],\n",
              "        [255, 255, 255],\n",
              "        [255, 255, 255],\n",
              "        ...,\n",
              "        [255, 255, 255],\n",
              "        [255, 255, 255],\n",
              "        [255, 255, 255]]], dtype=uint8)</pre></div><script>\n",
              "      (() => {\n",
              "      const titles = ['show data', 'hide data'];\n",
              "      let index = 0\n",
              "      document.querySelector('#id-26ea4b17-8232-4e8b-a8cd-e49ec84acd41 button').onclick = (e) => {\n",
              "        document.querySelector('#id-26ea4b17-8232-4e8b-a8cd-e49ec84acd41').classList.toggle('show_array');\n",
              "        index = (++index) % 2;\n",
              "        document.querySelector('#id-26ea4b17-8232-4e8b-a8cd-e49ec84acd41 button').textContent = titles[index];\n",
              "        e.preventDefault();\n",
              "        e.stopPropagation();\n",
              "      }\n",
              "      })();\n",
              "    </script>"
            ]
          },
          "metadata": {},
          "execution_count": 59
        }
      ]
    },
    {
      "cell_type": "code",
      "source": [],
      "metadata": {
        "id": "0DLnEdg2PZZ1"
      },
      "execution_count": null,
      "outputs": []
    }
  ]
}